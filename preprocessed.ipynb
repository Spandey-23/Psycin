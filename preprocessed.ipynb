{
 "cells": [
  {
   "cell_type": "code",
   "execution_count": 3,
   "id": "72eed4fc-ff21-4920-919f-eb3ee1b6bd0f",
   "metadata": {},
   "outputs": [
    {
     "name": "stdout",
     "output_type": "stream",
     "text": [
      "Requirement already satisfied: pandas in c:\\users\\united\\anaconda3\\lib\\site-packages (2.1.4)\n",
      "Requirement already satisfied: numpy<2,>=1.23.2 in c:\\users\\united\\anaconda3\\lib\\site-packages (from pandas) (1.26.4)\n",
      "Requirement already satisfied: python-dateutil>=2.8.2 in c:\\users\\united\\anaconda3\\lib\\site-packages (from pandas) (2.8.2)\n",
      "Requirement already satisfied: pytz>=2020.1 in c:\\users\\united\\anaconda3\\lib\\site-packages (from pandas) (2023.3.post1)\n",
      "Requirement already satisfied: tzdata>=2022.1 in c:\\users\\united\\anaconda3\\lib\\site-packages (from pandas) (2023.3)\n",
      "Requirement already satisfied: six>=1.5 in c:\\users\\united\\anaconda3\\lib\\site-packages (from python-dateutil>=2.8.2->pandas) (1.16.0)\n",
      "Note: you may need to restart the kernel to use updated packages.\n"
     ]
    }
   ],
   "source": [
    "pip install pandas"
   ]
  },
  {
   "cell_type": "code",
   "execution_count": 4,
   "id": "d55a8cfb-1bc7-431a-a4be-1d8608c24e19",
   "metadata": {},
   "outputs": [
    {
     "name": "stdout",
     "output_type": "stream",
     "text": [
      "Requirement already satisfied: pip in c:\\users\\united\\anaconda3\\lib\\site-packages (24.0)\n",
      "Note: you may need to restart the kernel to use updated packages.\n"
     ]
    }
   ],
   "source": [
    "pip install --upgrade pip"
   ]
  },
  {
   "cell_type": "code",
   "execution_count": 1,
   "id": "2314af89-1871-4936-965d-777d787e3276",
   "metadata": {},
   "outputs": [
    {
     "name": "stdout",
     "output_type": "stream",
     "text": [
      "Requirement already satisfied: pandas-profiling in c:\\users\\united\\anaconda3\\lib\\site-packages (3.2.0)\n",
      "Requirement already satisfied: joblib~=1.1.0 in c:\\users\\united\\anaconda3\\lib\\site-packages (from pandas-profiling) (1.1.1)\n",
      "Requirement already satisfied: scipy>=1.4.1 in c:\\users\\united\\anaconda3\\lib\\site-packages (from pandas-profiling) (1.11.4)\n",
      "Requirement already satisfied: pandas!=1.0.0,!=1.0.1,!=1.0.2,!=1.1.0,>=0.25.3 in c:\\users\\united\\anaconda3\\lib\\site-packages (from pandas-profiling) (2.1.4)\n",
      "Requirement already satisfied: matplotlib>=3.2.0 in c:\\users\\united\\anaconda3\\lib\\site-packages (from pandas-profiling) (3.8.0)\n",
      "Requirement already satisfied: pydantic>=1.8.1 in c:\\users\\united\\anaconda3\\lib\\site-packages (from pandas-profiling) (1.10.12)\n",
      "Requirement already satisfied: PyYAML>=5.0.0 in c:\\users\\united\\anaconda3\\lib\\site-packages (from pandas-profiling) (6.0.1)\n",
      "Requirement already satisfied: jinja2>=2.11.1 in c:\\users\\united\\anaconda3\\lib\\site-packages (from pandas-profiling) (3.1.3)\n",
      "Requirement already satisfied: markupsafe~=2.1.1 in c:\\users\\united\\anaconda3\\lib\\site-packages (from pandas-profiling) (2.1.3)\n",
      "Requirement already satisfied: visions==0.7.4 in c:\\users\\united\\anaconda3\\lib\\site-packages (from visions[type_image_path]==0.7.4->pandas-profiling) (0.7.4)\n",
      "Requirement already satisfied: numpy>=1.16.0 in c:\\users\\united\\anaconda3\\lib\\site-packages (from pandas-profiling) (1.26.4)\n",
      "Requirement already satisfied: htmlmin>=0.1.12 in c:\\users\\united\\anaconda3\\lib\\site-packages (from pandas-profiling) (0.1.12)\n",
      "Requirement already satisfied: missingno>=0.4.2 in c:\\users\\united\\anaconda3\\lib\\site-packages (from pandas-profiling) (0.5.2)\n",
      "Requirement already satisfied: phik>=0.11.1 in c:\\users\\united\\anaconda3\\lib\\site-packages (from pandas-profiling) (0.12.4)\n",
      "Requirement already satisfied: tangled-up-in-unicode==0.2.0 in c:\\users\\united\\anaconda3\\lib\\site-packages (from pandas-profiling) (0.2.0)\n",
      "Requirement already satisfied: requests>=2.24.0 in c:\\users\\united\\anaconda3\\lib\\site-packages (from pandas-profiling) (2.31.0)\n",
      "Requirement already satisfied: tqdm>=4.48.2 in c:\\users\\united\\anaconda3\\lib\\site-packages (from pandas-profiling) (4.65.0)\n",
      "Requirement already satisfied: seaborn>=0.10.1 in c:\\users\\united\\anaconda3\\lib\\site-packages (from pandas-profiling) (0.12.2)\n",
      "Requirement already satisfied: multimethod>=1.4 in c:\\users\\united\\anaconda3\\lib\\site-packages (from pandas-profiling) (1.11.2)\n",
      "Requirement already satisfied: attrs>=19.3.0 in c:\\users\\united\\anaconda3\\lib\\site-packages (from visions==0.7.4->visions[type_image_path]==0.7.4->pandas-profiling) (23.1.0)\n",
      "Requirement already satisfied: networkx>=2.4 in c:\\users\\united\\anaconda3\\lib\\site-packages (from visions==0.7.4->visions[type_image_path]==0.7.4->pandas-profiling) (3.1)\n",
      "Requirement already satisfied: imagehash in c:\\users\\united\\anaconda3\\lib\\site-packages (from visions[type_image_path]==0.7.4->pandas-profiling) (4.3.1)\n",
      "Requirement already satisfied: Pillow in c:\\users\\united\\anaconda3\\lib\\site-packages (from visions[type_image_path]==0.7.4->pandas-profiling) (10.2.0)\n",
      "Requirement already satisfied: contourpy>=1.0.1 in c:\\users\\united\\anaconda3\\lib\\site-packages (from matplotlib>=3.2.0->pandas-profiling) (1.2.0)\n",
      "Requirement already satisfied: cycler>=0.10 in c:\\users\\united\\anaconda3\\lib\\site-packages (from matplotlib>=3.2.0->pandas-profiling) (0.11.0)\n",
      "Requirement already satisfied: fonttools>=4.22.0 in c:\\users\\united\\anaconda3\\lib\\site-packages (from matplotlib>=3.2.0->pandas-profiling) (4.25.0)\n",
      "Requirement already satisfied: kiwisolver>=1.0.1 in c:\\users\\united\\anaconda3\\lib\\site-packages (from matplotlib>=3.2.0->pandas-profiling) (1.4.4)\n",
      "Requirement already satisfied: packaging>=20.0 in c:\\users\\united\\anaconda3\\lib\\site-packages (from matplotlib>=3.2.0->pandas-profiling) (23.1)\n",
      "Requirement already satisfied: pyparsing>=2.3.1 in c:\\users\\united\\anaconda3\\lib\\site-packages (from matplotlib>=3.2.0->pandas-profiling) (3.0.9)\n",
      "Requirement already satisfied: python-dateutil>=2.7 in c:\\users\\united\\anaconda3\\lib\\site-packages (from matplotlib>=3.2.0->pandas-profiling) (2.8.2)\n",
      "Requirement already satisfied: pytz>=2020.1 in c:\\users\\united\\anaconda3\\lib\\site-packages (from pandas!=1.0.0,!=1.0.1,!=1.0.2,!=1.1.0,>=0.25.3->pandas-profiling) (2023.3.post1)\n",
      "Requirement already satisfied: tzdata>=2022.1 in c:\\users\\united\\anaconda3\\lib\\site-packages (from pandas!=1.0.0,!=1.0.1,!=1.0.2,!=1.1.0,>=0.25.3->pandas-profiling) (2023.3)\n",
      "Requirement already satisfied: typing-extensions>=4.2.0 in c:\\users\\united\\anaconda3\\lib\\site-packages (from pydantic>=1.8.1->pandas-profiling) (4.9.0)\n",
      "Requirement already satisfied: charset-normalizer<4,>=2 in c:\\users\\united\\anaconda3\\lib\\site-packages (from requests>=2.24.0->pandas-profiling) (2.0.4)\n",
      "Requirement already satisfied: idna<4,>=2.5 in c:\\users\\united\\anaconda3\\lib\\site-packages (from requests>=2.24.0->pandas-profiling) (3.4)\n",
      "Requirement already satisfied: urllib3<3,>=1.21.1 in c:\\users\\united\\anaconda3\\lib\\site-packages (from requests>=2.24.0->pandas-profiling) (2.0.7)\n",
      "Requirement already satisfied: certifi>=2017.4.17 in c:\\users\\united\\anaconda3\\lib\\site-packages (from requests>=2.24.0->pandas-profiling) (2024.2.2)\n",
      "Requirement already satisfied: colorama in c:\\users\\united\\anaconda3\\lib\\site-packages (from tqdm>=4.48.2->pandas-profiling) (0.4.6)\n",
      "Requirement already satisfied: six>=1.5 in c:\\users\\united\\anaconda3\\lib\\site-packages (from python-dateutil>=2.7->matplotlib>=3.2.0->pandas-profiling) (1.16.0)\n",
      "Requirement already satisfied: PyWavelets in c:\\users\\united\\anaconda3\\lib\\site-packages (from imagehash->visions[type_image_path]==0.7.4->pandas-profiling) (1.5.0)\n",
      "Note: you may need to restart the kernel to use updated packages.\n"
     ]
    }
   ],
   "source": [
    "pip install pandas-profiling"
   ]
  },
  {
   "cell_type": "code",
   "execution_count": 6,
   "id": "ba6102e2-3326-4d02-81cd-8a388f98bb18",
   "metadata": {},
   "outputs": [],
   "source": [
    "import pandas as pd\n"
   ]
  },
  {
   "cell_type": "code",
   "execution_count": 17,
   "id": "6b2303a1-59eb-432f-b677-b1f9584219dc",
   "metadata": {},
   "outputs": [],
   "source": [
    "# Load your dataset\n",
    "data = pd.read_csv('C:/Users/United/downloads/hmmmm/chbmit_preprocessed_data.csv')\n",
    "\n",
    "# Specify the desired size of the trimmed dataset\n",
    "desired_size = 5000  # For example, reduce the dataset to 500000 data points\n",
    "\n",
    "# Randomly sample the dataset\n",
    "trimmed_data = data.sample(n=desired_size, random_state=42)\n",
    "\n",
    "# Save the trimmed dataset\n",
    "trimmed_data.to_csv('trimmed_dataset3.csv', index=False)"
   ]
  },
  {
   "cell_type": "code",
   "execution_count": 18,
   "id": "28078abb-18f0-4766-b855-8906cad04a3c",
   "metadata": {},
   "outputs": [],
   "source": [
    "df = pd.read_csv('C:/Users/United/downloads/hmmmm/trimmed_dataset3.csv')\n"
   ]
  },
  {
   "cell_type": "code",
   "execution_count": 19,
   "id": "1e5c6c22-2702-4984-9445-2efbed3d742e",
   "metadata": {},
   "outputs": [
    {
     "name": "stdout",
     "output_type": "stream",
     "text": [
      "      # FP1-F7     C3-P3     C4-P4         CZ-PZ     F3-C3     F4-C4  \\\n",
      "0    -0.000019  0.000056  0.000052  5.450000e-05  0.000115  0.000142   \n",
      "1     0.000015  0.000021 -0.000041 -1.470000e-05 -0.000076 -0.000044   \n",
      "2     0.000005  0.000006 -0.000029  2.930000e-06  0.000024  0.000029   \n",
      "3    -0.000061 -0.000014 -0.000110 -9.350000e-05  0.000045  0.000075   \n",
      "4    -0.000039 -0.000016 -0.000019 -1.310000e-05 -0.000015 -0.000022   \n",
      "...        ...       ...       ...           ...       ...       ...   \n",
      "4995 -0.000062 -0.000010 -0.000003 -5.860000e-07  0.000020 -0.000014   \n",
      "4996  0.000186 -0.000073  0.000074  6.390000e-05 -0.000033  0.000064   \n",
      "4997 -0.000136  0.000068  0.000050  1.500000e-05  0.000053  0.000029   \n",
      "4998  0.000115 -0.000272  0.000208  6.650000e-05  0.000272 -0.000234   \n",
      "4999  0.000012  0.000043  0.000013  4.160000e-05 -0.000006  0.000026   \n",
      "\n",
      "         F7-T7     F8-T8    FP1-F3    FP2-F4  ...         P3-O1     P4-O2  \\\n",
      "0    -0.000003  0.000140 -0.000018  0.000038  ...  7.370000e-05  0.000084   \n",
      "1    -0.000015 -0.000080  0.000122  0.000040  ... -2.210000e-05  0.000063   \n",
      "2     0.000047  0.000020  0.000050  0.000046  ... -3.030000e-05 -0.000023   \n",
      "3     0.000017  0.000004  0.000077  0.000075  ... -1.843220e-04 -0.000135   \n",
      "4     0.000002 -0.000040 -0.000009  0.000006  ...  1.390000e-05 -0.000005   \n",
      "...        ...       ...       ...       ...  ...           ...       ...   \n",
      "4995  0.000037 -0.000014 -0.000012 -0.000004  ...  1.950000e-07 -0.000012   \n",
      "4996 -0.000012 -0.000026  0.000040 -0.000153  ...  5.860000e-07  0.000038   \n",
      "4997  0.000040 -0.000026 -0.000134 -0.000086  ... -1.070000e-05 -0.000038   \n",
      "4998  0.000118 -0.000076 -0.000032 -0.000211  ... -6.297440e-04 -0.000118   \n",
      "4999  0.000047 -0.000051 -0.000176 -0.000137  ...  1.111600e-04  0.000092   \n",
      "\n",
      "         P7-O1         P7-T7         P8-O2    T7-FT9         T7-P7   T8-P8-0  \\\n",
      "0     0.000032 -2.170450e-04 -5.330000e-05  0.000006  2.174360e-04  0.000095   \n",
      "1    -0.000006 -4.980000e-05  3.220000e-05 -0.000038  5.020000e-05  0.000034   \n",
      "2     0.000071  7.480000e-05 -2.150000e-06 -0.000024 -7.440000e-05  0.000005   \n",
      "3    -0.000083 -5.010000e-05 -2.050000e-06 -0.000027  5.070000e-05 -0.000136   \n",
      "4     0.000010  9.770000e-07 -1.150000e-05 -0.000002 -5.860000e-07 -0.000012   \n",
      "...        ...           ...           ...       ...           ...       ...   \n",
      "4995  0.000008 -1.270000e-05 -9.770000e-07 -0.000019  1.310000e-05 -0.000044   \n",
      "4996 -0.000025  2.135290e-04 -6.000000e-05 -0.000181 -2.131380e-04  0.000248   \n",
      "4997 -0.000058 -1.295240e-04 -3.690000e-05 -0.000081  1.299150e-04  0.000050   \n",
      "4998 -0.000603  2.921610e-04 -2.863000e-04  0.000071 -2.915750e-04  0.000164   \n",
      "4999 -0.000062  2.560000e-05 -4.160000e-05  0.000042 -2.520000e-05  0.000075   \n",
      "\n",
      "       T8-P8-1  Outcome  \n",
      "0     0.000095      1.0  \n",
      "1     0.000034      0.0  \n",
      "2     0.000005      0.0  \n",
      "3    -0.000136      1.0  \n",
      "4    -0.000012      0.0  \n",
      "...        ...      ...  \n",
      "4995 -0.000044      0.0  \n",
      "4996  0.000248      1.0  \n",
      "4997  0.000050      0.0  \n",
      "4998  0.000164      1.0  \n",
      "4999  0.000075      0.0  \n",
      "\n",
      "[5000 rows x 24 columns]\n"
     ]
    }
   ],
   "source": [
    "print(df)"
   ]
  },
  {
   "cell_type": "code",
   "execution_count": 13,
   "id": "b3761984-1c58-4bd0-8cc0-42bea973af6b",
   "metadata": {},
   "outputs": [
    {
     "name": "stdout",
     "output_type": "stream",
     "text": [
      "Looking in indexes: https://pypi.python.org/simple/\n",
      "Requirement already satisfied: scikit-learn in c:\\users\\united\\anaconda3\\lib\\site-packages (1.2.2)\n",
      "Requirement already satisfied: numpy>=1.17.3 in c:\\users\\united\\anaconda3\\lib\\site-packages (from scikit-learn) (1.26.4)\n",
      "Requirement already satisfied: scipy>=1.3.2 in c:\\users\\united\\anaconda3\\lib\\site-packages (from scikit-learn) (1.11.4)\n",
      "Requirement already satisfied: joblib>=1.1.1 in c:\\users\\united\\anaconda3\\lib\\site-packages (from scikit-learn) (1.1.1)\n",
      "Requirement already satisfied: threadpoolctl>=2.0.0 in c:\\users\\united\\anaconda3\\lib\\site-packages (from scikit-learn) (2.2.0)\n",
      "Note: you may need to restart the kernel to use updated packages.\n"
     ]
    }
   ],
   "source": [
    "pip install scikit-learn --index-url=https://pypi.python.org/simple/"
   ]
  },
  {
   "cell_type": "code",
   "execution_count": 14,
   "id": "b9aad91a-cdf8-46a5-a7a1-1def439f9f6e",
   "metadata": {},
   "outputs": [
    {
     "name": "stdout",
     "output_type": "stream",
     "text": [
      "Requirement already satisfied: scikit-learn in c:\\users\\united\\anaconda3\\lib\\site-packages (1.2.2)\n",
      "Requirement already satisfied: numpy>=1.17.3 in c:\\users\\united\\anaconda3\\lib\\site-packages (from scikit-learn) (1.26.4)\n",
      "Requirement already satisfied: scipy>=1.3.2 in c:\\users\\united\\anaconda3\\lib\\site-packages (from scikit-learn) (1.11.4)\n",
      "Requirement already satisfied: joblib>=1.1.1 in c:\\users\\united\\anaconda3\\lib\\site-packages (from scikit-learn) (1.1.1)\n",
      "Requirement already satisfied: threadpoolctl>=2.0.0 in c:\\users\\united\\anaconda3\\lib\\site-packages (from scikit-learn) (2.2.0)\n",
      "Note: you may need to restart the kernel to use updated packages.\n"
     ]
    }
   ],
   "source": [
    "pip install scikit-learn"
   ]
  },
  {
   "cell_type": "code",
   "execution_count": 15,
   "id": "630f53e9-32a6-4089-9f2c-4ec8ba2d6929",
   "metadata": {},
   "outputs": [
    {
     "name": "stdout",
     "output_type": "stream",
     "text": [
      "Collecting hmmlearnNote: you may need to restart the kernel to use updated packages.\n",
      "\n",
      "  Downloading hmmlearn-0.3.2-cp311-cp311-win_amd64.whl.metadata (3.0 kB)\n",
      "Requirement already satisfied: numpy>=1.10 in c:\\users\\united\\anaconda3\\lib\\site-packages (from hmmlearn) (1.26.4)\n",
      "Requirement already satisfied: scikit-learn!=0.22.0,>=0.16 in c:\\users\\united\\anaconda3\\lib\\site-packages (from hmmlearn) (1.2.2)\n",
      "Requirement already satisfied: scipy>=0.19 in c:\\users\\united\\anaconda3\\lib\\site-packages (from hmmlearn) (1.11.4)\n",
      "Requirement already satisfied: joblib>=1.1.1 in c:\\users\\united\\anaconda3\\lib\\site-packages (from scikit-learn!=0.22.0,>=0.16->hmmlearn) (1.1.1)\n",
      "Requirement already satisfied: threadpoolctl>=2.0.0 in c:\\users\\united\\anaconda3\\lib\\site-packages (from scikit-learn!=0.22.0,>=0.16->hmmlearn) (2.2.0)\n",
      "Downloading hmmlearn-0.3.2-cp311-cp311-win_amd64.whl (125 kB)\n",
      "   ---------------------------------------- 0.0/125.4 kB ? eta -:--:--\n",
      "   ------------------- -------------------- 61.4/125.4 kB 1.7 MB/s eta 0:00:01\n",
      "   ---------------------------------------- 125.4/125.4 kB 2.4 MB/s eta 0:00:00\n",
      "Installing collected packages: hmmlearn\n",
      "Successfully installed hmmlearn-0.3.2\n"
     ]
    }
   ],
   "source": [
    "pip install hmmlearn"
   ]
  },
  {
   "cell_type": "code",
   "execution_count": 16,
   "id": "899c669f-1d8d-472d-8f4b-305200d5336c",
   "metadata": {},
   "outputs": [],
   "source": [
    "from sklearn.preprocessing import StandardScaler\n",
    "from sklearn.decomposition import PCA\n",
    "from sklearn.model_selection import train_test_split\n",
    "from sklearn.svm import SVC\n",
    "from sklearn.metrics import accuracy_score\n",
    "from scipy.optimize import curve_fit\n",
    "import numpy as np\n",
    "import pandas as pd\n",
    "import pywt\n",
    "from hmmlearn import hmm"
   ]
  },
  {
   "cell_type": "code",
   "execution_count": 4,
   "id": "16117268-2ee7-47aa-81bf-9101d7acb656",
   "metadata": {},
   "outputs": [
    {
     "ename": "NameError",
     "evalue": "name 'df' is not defined",
     "output_type": "error",
     "traceback": [
      "\u001b[1;31m---------------------------------------------------------------------------\u001b[0m",
      "\u001b[1;31mNameError\u001b[0m                                 Traceback (most recent call last)",
      "Cell \u001b[1;32mIn[4], line 1\u001b[0m\n\u001b[1;32m----> 1\u001b[0m X \u001b[38;5;241m=\u001b[39m df\u001b[38;5;241m.\u001b[39miloc[:, :\u001b[38;5;241m-\u001b[39m\u001b[38;5;241m1\u001b[39m]\u001b[38;5;241m.\u001b[39mvalues\n\u001b[0;32m      2\u001b[0m y \u001b[38;5;241m=\u001b[39m df\u001b[38;5;241m.\u001b[39miloc[:, \u001b[38;5;241m-\u001b[39m\u001b[38;5;241m1\u001b[39m]\u001b[38;5;241m.\u001b[39mvalues\n\u001b[0;32m      4\u001b[0m \u001b[38;5;66;03m# Define wavelet and level of decomposition\u001b[39;00m\n",
      "\u001b[1;31mNameError\u001b[0m: name 'df' is not defined"
     ]
    }
   ],
   "source": [
    "X = df.iloc[:, :-1].values\n",
    "y = df.iloc[:, -1].values\n",
    "\n",
    "# Define wavelet and level of decomposition\n",
    "wavelet = 'db5'  # Daubechies 5 wavelet, you can choose other wavelets too\n",
    "level = 6  # Level of decomposition, adjust as needed\n",
    "\n",
    "# Function to apply DWT to a single channel\n",
    "def apply_dwt(channel_data):\n",
    "    coeffs = pywt.wavedec(channel_data, wavelet, level=level)\n",
    "    return np.concatenate(coeffs)\n",
    "\n",
    "# Apply DWT to each channel in X\n",
    "dwt_features = np.apply_along_axis(apply_dwt, axis=1, arr=X)\n",
    "\n",
    "# Standardize the features\n",
    "scaler = StandardScaler()\n",
    "dwt_features_scaled = scaler.fit_transform(dwt_features)\n",
    "\n",
    "# Perform PCA for compression\n",
    "n_components = 10  # Number of principal components, adjust as needed\n",
    "pca = PCA(n_components=n_components)\n",
    "compressed_features = pca.fit_transform(dwt_features_scaled)\n",
    "\n",
    "# Save compressed features to a new CSV file\n",
    "#compressed_data = pd.DataFrame(compressed_features)\n",
    "#compressed_data['target'] = y  # Add target column\n",
    "#compressed_data.to_csv('compressed_chbmit_data.csv', index=False)\n",
    "\n",
    "# Load the compressed CSV file using pandas\n",
    "trimmed_dataset = pd.read_csv('trimmed_dataset.csv')\n",
    "\n",
    "# Extract features and labels from the loaded DataFrame\n",
    "X_features = trimmed_dataset.drop(columns=['target']).values\n",
    "y_valence_labels = trimmed_dataset['target'].values\n",
    "y_arousal_labels = trimmed_dataset['target'].values\n",
    "\n",
    "# Split data into training and testing sets\n",
    "X_train, X_test, y_train_valence, y_test_valence, y_train_arousal, y_test_arousal = train_test_split(X_features, y_valence_labels, y_arousal_labels, test_size=0.3, random_state=42)\n",
    "\n",
    "# Ensure there are more than one class in the target variables\n",
    "if len(np.unique(y_train_valence)) < 2 or len(np.unique(y_train_arousal)) < 2:\n",
    "    raise ValueError(\"There must be at least two classes in the target variable for SVM classifiers.\")\n",
    "\n",
    "# Develop Support Vector Machine (SVM) classifiers\n",
    "# SVM classifier for valence axis\n",
    "svm_valence = SVC(kernel='rbf')\n",
    "svm_valence.fit(X_train, y_train_valence)\n",
    "\n",
    "# SVM classifier for arousal axis\n",
    "svm_arousal = SVC(kernel='rbf')\n",
    "svm_arousal.fit(X_train, y_train_arousal)\n",
    "\n",
    "# Calculate SVM Output\n",
    "svm_valence_output = svm_valence.decision_function(X_test)\n",
    "svm_arousal_output = svm_arousal.decision_function(X_test)\n",
    "\n",
    "# Use Sigmoid Function\n",
    "def sigmoid(x, A, B):\n",
    "    return 1 / (1 + np.exp(A * x + B))\n",
    "\n",
    "def calculate_parameters(X_train, svm_output, y_train):\n",
    "    # Fit sigmoid function to the SVM output\n",
    "    params, _ = curve_fit(sigmoid, svm_output, y_train)\n",
    "    return params\n",
    "\n",
    "# Calculate Parameters A and B\n",
    "A_valence, B_valence = calculate_parameters(X_test, svm_valence_output, y_test_valence)\n",
    "A_arousal, B_arousal = calculate_parameters(X_test, svm_arousal_output, y_test_arousal)\n",
    "\n",
    "def evaluate_classifier(model, X_test, y_test):\n",
    "    # Score the model on the test data\n",
    "    score = accuracy_score(y_test, model.predict(X_test))\n",
    "    return score\n",
    "\n",
    "# Combine SVM and Hidden Markov Model (HMM)\n",
    "# HMM classifier for valence axis\n",
    "hmm_valence = hmm.GaussianHMM(n_components=2)  # Assuming 2 hidden states\n",
    "hmm_valence.fit(svm_valence_output.reshape(-1, 1))\n",
    "\n",
    "# HMM classifier for arousal axis\n",
    "hmm_arousal = hmm.GaussianHMM(n_components=2)  # Assuming 2 hidden states\n",
    "hmm_arousal.fit(svm_arousal_output.reshape(-1, 1))\n",
    "\n",
    "# Evaluate Classifier Performance\n",
    "valence_accuracy = evaluate_classifier(hmm_valence, X_test, y_test_valence)\n",
    "arousal_accuracy = evaluate_classifier(hmm_arousal, X_test, y_test_arousal)\n",
    "\n",
    "print(\"Valence Accuracy:\", valence_accuracy)\n",
    "print(\"Arousal Accuracy:\", arousal_accuracy)\n"
   ]
  },
  {
   "cell_type": "code",
   "execution_count": null,
   "id": "0e90942d-936e-4052-a02d-9a7b06791ae8",
   "metadata": {},
   "outputs": [],
   "source": []
  }
 ],
 "metadata": {
  "kernelspec": {
   "display_name": "Python 3 (ipykernel)",
   "language": "python",
   "name": "python3"
  },
  "language_info": {
   "codemirror_mode": {
    "name": "ipython",
    "version": 3
   },
   "file_extension": ".py",
   "mimetype": "text/x-python",
   "name": "python",
   "nbconvert_exporter": "python",
   "pygments_lexer": "ipython3",
   "version": "3.11.7"
  }
 },
 "nbformat": 4,
 "nbformat_minor": 5
}
